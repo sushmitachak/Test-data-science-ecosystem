{
 "cells": [
  {
   "cell_type": "markdown",
   "id": "3c25af4e-d2c4-427a-ac45-37f16935c569",
   "metadata": {},
   "source": [
    "# Data Science Tools and Ecosystem"
   ]
  },
  {
   "cell_type": "markdown",
   "id": "f511f3e9-6a0c-4486-8a1a-c6b7c219359b",
   "metadata": {},
   "source": [
    "In this notebook, Data Science Tools and Ecosystem are summarized."
   ]
  },
  {
   "cell_type": "markdown",
   "id": "d1283d84-1919-490f-9622-7339a09ea3eb",
   "metadata": {},
   "source": [
    "**Objectives:**"
   ]
  },
  {
   "cell_type": "markdown",
   "id": "95662880-c500-44ef-9399-c51a8ed04d8b",
   "metadata": {},
   "source": [
    "* languages in Data Science\n",
    "* libraries in Data Science\n",
    "* tools for Data Science\n",
    "* Usage of code and markdowns in Jupyter Notebook\n",
    "* Basic of R programming"
   ]
  },
  {
   "cell_type": "markdown",
   "id": "7e8d0ba2-c6f1-4353-9ca9-0378b4cafd41",
   "metadata": {},
   "source": [
    "### Some of the popular languages that Data Scientists use are:\n",
    "1. Python\n",
    "2. Scala\n",
    "3. C++\n",
    "4. Java"
   ]
  },
  {
   "cell_type": "markdown",
   "id": "3b673ffd-5d40-49aa-bfcd-c011d5fb8ebb",
   "metadata": {},
   "source": [
    "## Some of the commonly used libraries used by Data Scientists include:\n",
    "1. NumPy\n",
    "2. SciPy\n",
    "3. Pandas\n",
    "4. TenserFlow\n",
    "5. Seaborn"
   ]
  },
  {
   "cell_type": "markdown",
   "id": "478bcf7d-9a44-46ba-b2a5-6ef126c2e09b",
   "metadata": {},
   "source": [
    "|Data Science Tools|\n",
    "|------------------|\n",
    "|    Hadoop        |\n",
    "|   TenserFlow     |\n",
    "|    Pandas        |"
   ]
  },
  {
   "cell_type": "markdown",
   "id": "f154b2a3-9c9b-448e-a81d-7a71c966551d",
   "metadata": {},
   "source": [
    "### Below are a few examples of evaluating arithmetic expressions in Python\n"
   ]
  },
  {
   "cell_type": "code",
   "execution_count": 2,
   "id": "4891bded-d48d-4d95-a139-2a6a9b7f2c55",
   "metadata": {},
   "outputs": [
    {
     "data": {
      "text/plain": [
       "17"
      ]
     },
     "execution_count": 2,
     "metadata": {},
     "output_type": "execute_result"
    }
   ],
   "source": [
    "# This a simple arithmetic expression to mutiply then add integers\n",
    "(3*4)+5"
   ]
  },
  {
   "cell_type": "code",
   "execution_count": 3,
   "id": "468ad0dc-464c-4034-a135-adb07791f868",
   "metadata": {},
   "outputs": [
    {
     "name": "stdout",
     "output_type": "stream",
     "text": [
      "3.3333333333333335 hours\n"
     ]
    }
   ],
   "source": [
    "#This will convert 200 minutes to hours by diving by 60\n",
    "minutes = 200\n",
    "minutes_to_hours = minutes/60\n",
    "print(minutes_to_hours, \"hours\")"
   ]
  },
  {
   "cell_type": "markdown",
   "id": "4d49f7cf-fb16-4cd3-8abc-301a266568b7",
   "metadata": {},
   "source": [
    "## Author"
   ]
  },
  {
   "cell_type": "markdown",
   "id": "0b15523e-d6cc-4b9d-b606-a30aad7d6ac1",
   "metadata": {},
   "source": [
    "Pradip Chakraborty"
   ]
  },
  {
   "cell_type": "code",
   "execution_count": null,
   "id": "d7972ae5-bf4b-46f3-9c9a-6b169f9474bb",
   "metadata": {},
   "outputs": [],
   "source": []
  }
 ],
 "metadata": {
  "kernelspec": {
   "display_name": "Python 3 (ipykernel)",
   "language": "python",
   "name": "python3"
  },
  "language_info": {
   "codemirror_mode": {
    "name": "ipython",
    "version": 3
   },
   "file_extension": ".py",
   "mimetype": "text/x-python",
   "name": "python",
   "nbconvert_exporter": "python",
   "pygments_lexer": "ipython3",
   "version": "3.11.7"
  }
 },
 "nbformat": 4,
 "nbformat_minor": 5
}
